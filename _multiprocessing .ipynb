{
 "cells": [
  {
   "cell_type": "markdown",
   "id": "d3e7dac1-d37f-4ce3-850f-2a9c2a5b8028",
   "metadata": {},
   "source": [
    "Q1. What is multiprocessing in python? Why is it useful?"
   ]
  },
  {
   "cell_type": "markdown",
   "id": "7e8cb8a5-ae0a-49d9-8599-88926d30353c",
   "metadata": {},
   "source": [
    "Ans:- Multiprocessing in Python is a technique that allows a system to support more than one processor at the same time. It refers to the ability of a system to execute multiple processes simultaneously, thereby improving the performance of the system. In a multiprocessing system, applications are divided into smaller routines that run independently. The operating system allocates these threads to different processors, enabling parallel execution and efficient utilization of resources.\n",
    "\n",
    "The multiprocessing module in Python provides a simple and intuitive API for dividing work between multiple processes. It allows you to create programs that can run concurrently, bypassing the Global Interpreter Lock (GIL) and utilizing the full potential of your CPU cores. Each process created by the multiprocessing module has its own Python interpreter and Global Interpreter Lock (GIL). This means that each process can execute Python code independently without being affected by the GIL, resulting in improved performance for CPU-bound tasks.\n",
    "\n",
    "Multiprocessing is useful in scenarios where you need to perform computationally intensive tasks or parallelize your code to take advantage of multiple CPU cores. By distributing the workload across multiple processes, you can achieve faster execution times and better resource utilization."
   ]
  },
  {
   "cell_type": "markdown",
   "id": "b159521d-3257-4e45-8b2d-e208488ffea3",
   "metadata": {},
   "source": [
    "Q2. What are the differences between multiprocessing and multithreading?"
   ]
  },
  {
   "cell_type": "markdown",
   "id": "3bb7ec49-a986-4695-9d7d-496c9d4ae410",
   "metadata": {},
   "source": [
    "Ans:- In Python, multithreading and multiprocessing are two techniques used to achieve parallelism and concurrency, respectively.\n",
    "A process is a program that has been loaded into memory along with all the resources it needs to operate. It has its own memory space. A thread is the unit of execution within a process. A process can have multiple threads running as a part of it, where each thread uses the process’s memory space and shares it with other threads .\n",
    "\n",
    "Multithreading is a technique where multiple threads are spawned by a process to do different tasks, at about the same time, just one after the other. This gives you the illusion that the threads are running in parallel, but they are actually run in a concurrent manner. In Python, the Global Interpreter Lock (GIL) prevents the threads from running simultaneously.\n",
    "\n",
    "Multiprocessing, on the other hand, is a technique where parallelism in its truest form is achieved. Multiple processes are run across multiple CPU cores, which do not share the resources among them. Each process can have many threads running in its own memory space. In Python, each process has its own instance of Python interpreter doing the job of executing the instructions."
   ]
  },
  {
   "cell_type": "markdown",
   "id": "6eb2c3f7-d0eb-4214-b912-3012ab6eb91c",
   "metadata": {},
   "source": [
    "Q3. Write a python code to create a process using the multiprocessing module."
   ]
  },
  {
   "cell_type": "code",
   "execution_count": 1,
   "id": "a63ffd4d-f98a-4096-8eae-0139e9366868",
   "metadata": {},
   "outputs": [
    {
     "name": "stdout",
     "output_type": "stream",
     "text": [
      "Square: 100Cube:\n",
      " 1000\n",
      "Done!\n"
     ]
    }
   ],
   "source": [
    "import multiprocessing\n",
    "\n",
    "def print_cube(num):\n",
    "    print(\"Cube:\", num * num * num)\n",
    "\n",
    "def print_square(num):\n",
    "    print(\"Square:\", num * num)\n",
    "\n",
    "if __name__ == \"__main__\":\n",
    "    p1 = multiprocessing.Process(target=print_square, args=(10,))\n",
    "    p2 = multiprocessing.Process(target=print_cube, args=(10,))\n",
    "    p1.start()\n",
    "    p2.start()\n",
    "    p1.join()\n",
    "    p2.join()\n",
    "    print(\"Done!\")"
   ]
  },
  {
   "cell_type": "markdown",
   "id": "9ae31a4e-6b10-446d-a65f-e6bece3f8dbb",
   "metadata": {},
   "source": [
    "Q4. What is a multiprocessing pool in python? Why is it used?"
   ]
  },
  {
   "cell_type": "markdown",
   "id": "05a81bf7-b0cc-4d33-8d02-2fe55925fcc2",
   "metadata": {},
   "source": [
    "Ans:-The multiprocessing Pool class in Python provides a process pool that allows tasks to be submitted as functions to the pool and executed concurrently12. It is part of the multiprocessing module, which is used for process-based parallelism.\n",
    "\n",
    "To create a pool object, you can use the syntax multiprocessing Pool(processes, initializer, initargs, maxtasksperchild, context). The processes argument represents the number of worker processes you want to create. By default, it is set to the number of CPUs on your system1. The other arguments are optional and can be used for initialization and task management.\n",
    "\n",
    "The Pool class provides several methods for parallel execution of tasks. One such method is map(), which takes a function and an iterable as arguments. It runs the given function on every item of the iterable in parallel. Another method is imap(), which is similar to map() but returns results as soon as they are ready instead of waiting for all of them to finish"
   ]
  },
  {
   "cell_type": "markdown",
   "id": "d76141e0-dd65-4856-83da-28e13d5004c5",
   "metadata": {},
   "source": [
    "Q5. How can we create a pool of worker processes in python using the multiprocessing module?"
   ]
  },
  {
   "cell_type": "markdown",
   "id": "69a1794e-1f1d-4525-b5e9-ca4cf3d6bed3",
   "metadata": {},
   "source": [
    "Ans:-To create a pool of worker processes in Python using the multiprocessing module, we can use the Pool class123. The Pool object maintains a collection of worker processes to which you can submit tasks to be executed concurrently. Here is an example of how to use the Pool class."
   ]
  },
  {
   "cell_type": "code",
   "execution_count": 2,
   "id": "b2a6275c-ee6d-4481-9e17-8b4eddef0e42",
   "metadata": {},
   "outputs": [],
   "source": [
    "from multiprocessing import Pool\n",
    "\n",
    "def worker_process(data):\n",
    "    \n",
    "    return data * data\n",
    "\n",
    "if __name__ == '__main__':\n",
    "    with Pool(processes=2) as pool:\n",
    "        data = range(10)\n",
    "        result = pool.map(worker_process,data)"
   ]
  },
  {
   "cell_type": "markdown",
   "id": "b2482d4a-f804-4f56-b596-8eb2c8b592d2",
   "metadata": {},
   "source": [
    "In the above example, we define a function worker_process that takes in some data and returns the square of that data. We then create a Pool object with 2 worker processes and use the map method to apply the worker_process function to each element in the data list. The results are returned as a list.\n",
    "If you need to pass additional arguments to your worker process, you can use the starmap method instead of map. The starmap method takes an iterable of argument tuples and applies them to the function."
   ]
  },
  {
   "cell_type": "markdown",
   "id": "b9cc87db-0d23-47de-882e-15abbbfdd6e2",
   "metadata": {},
   "source": [
    "Q6. Write a python program to create 4 processes, each process should print a different number using the\n",
    "multiprocessing module in python."
   ]
  },
  {
   "cell_type": "code",
   "execution_count": null,
   "id": "b1d272b6-1875-4736-9b17-58f299dd5ef9",
   "metadata": {},
   "outputs": [],
   "source": []
  }
 ],
 "metadata": {
  "kernelspec": {
   "display_name": "Python 3 (ipykernel)",
   "language": "python",
   "name": "python3"
  },
  "language_info": {
   "codemirror_mode": {
    "name": "ipython",
    "version": 3
   },
   "file_extension": ".py",
   "mimetype": "text/x-python",
   "name": "python",
   "nbconvert_exporter": "python",
   "pygments_lexer": "ipython3",
   "version": "3.10.8"
  }
 },
 "nbformat": 4,
 "nbformat_minor": 5
}
